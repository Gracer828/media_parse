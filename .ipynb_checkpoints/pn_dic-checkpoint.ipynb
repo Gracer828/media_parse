{
 "cells": [
  {
   "cell_type": "code",
   "execution_count": 14,
   "metadata": {
    "collapsed": false,
    "scrolled": false
   },
   "outputs": [
    {
     "name": "stdout",
     "output_type": "stream",
     "text": [
      "55125\n",
      "55125\n",
      "52671\n"
     ]
    }
   ],
   "source": [
    "# PN Table の読み込み\n",
    "import pandas as pd\n",
    "\n",
    "pn_table = pd.read_csv('./pn_ja.dic.txt', \n",
    "                    sep=':',\n",
    "                    encoding='shift-jis',\n",
    "                    names=('Word','Reading','POS', 'PN')\n",
    "                      )\n",
    "#print(pn_table)\n",
    "\n",
    "# PN Tableをデータフレームからdict型に変換しておく\n",
    "word_list = list(pn_table['Word'])\n",
    "pn_list = list(pn_table['PN'])  # 中身の型はnumpy.float64\n",
    "print(len(word_list))\n",
    "print(len(pn_list))\n",
    "pn_table_dic = dict(zip(word_list, pn_list))\n",
    "print(len(pn_table_dic.keys()))\n",
    "#print(pn_table_dic)\n"
   ]
  },
  {
   "cell_type": "code",
   "execution_count": 15,
   "metadata": {
    "collapsed": false
   },
   "outputs": [
    {
     "name": "stdout",
     "output_type": "stream",
     "text": [
      "13310\n",
      "13310\n",
      "13307\n"
     ]
    }
   ],
   "source": [
    "# 日本語評価極性辞書(JPSD) の読み込み\n",
    "import pandas as pd\n",
    "\n",
    "jpsd = pd.read_csv('./pn.csv.m3.120408.txt',\n",
    "                    sep='\\t',\n",
    "                    encoding='utf-8',\n",
    "                    names=('Word','descretePN','RULE')\n",
    "                   )\n",
    "jpsd = jpsd.iloc[:, 0:2]\n",
    "\n",
    "# descretePN列のeを0,pを1,nを-1に置換しておく\n",
    "jpsd[\"descretePN\"] = jpsd[\"descretePN\"].replace(\"e\",0).replace(\"p\",1).replace(\"n\",-1)\n",
    "\n",
    "\n",
    "# 日本語評価極性辞書をデータフレームからdict型に変換しておく\n",
    "word_list = list(jpsd['Word'])\n",
    "print(len(word_list))\n",
    "pn_list = list(jpsd['descretePN'])# 中身の型はnumpy.float64\n",
    "print(len(pn_list))\n",
    "jp_dict = dict(zip(word_list, pn_list))\n",
    "print(len(jp_dict.keys()))\n",
    "# あとで使えるように元のdescretePNをリスト化しておく\n",
    "descrete_pn = list(jp_dict.values())\n",
    "\n",
    "        \n",
    "# pn_tableにもある名詞であり、かつPN値の符号が揃っていて、日本語評価極性辞書のPN値が0でない場合のみ置き換える\n",
    "for jp_w in jp_dict.keys():\n",
    "    if pn_table_dic.get(jp_w, None) != None and jp_dict[jp_w] * pn_table_dic[jp_w] > 0:\n",
    "        jp_dict[jp_w] = pn_table_dic[jp_w]\n",
    "#print(jp_dict)"
   ]
  },
  {
   "cell_type": "code",
   "execution_count": 17,
   "metadata": {
    "collapsed": false
   },
   "outputs": [
    {
     "name": "stdout",
     "output_type": "stream",
     "text": [
      "       descretePN   Word        PN\n",
      "0               0   ２，３日  0.000000\n",
      "1               0    10%  0.000000\n",
      "2               0   100%  0.000000\n",
      "3               0    25%  0.000000\n",
      "4               0    80%  0.000000\n",
      "5               0   １０カ月  0.000000\n",
      "6               0   １０時間  0.000000\n",
      "7               0   １０数年  0.000000\n",
      "8               0  １０年以上  0.000000\n",
      "9               0  １０年近く  0.000000\n",
      "10              0   １１ヶ月  0.000000\n",
      "11              0    １１年  0.000000\n",
      "12              0    １２年  0.000000\n",
      "13              0    １３年  0.000000\n",
      "14              0    １４年  0.000000\n",
      "15              0    １５秒  0.000000\n",
      "16              0    １６年  0.000000\n",
      "17              0    １７年  0.000000\n",
      "18              0    １９年  0.000000\n",
      "19              0   １バイト  0.000000\n",
      "20              1     １位  1.000000\n",
      "21              0     １割  0.000000\n",
      "22              0  １時間以上  0.000000\n",
      "23              0  １時間以内  0.000000\n",
      "24              0   １時間半  0.000000\n",
      "25              1  １周年記念  1.000000\n",
      "26              0  １週間以上  0.000000\n",
      "27              1     １勝  1.000000\n",
      "28              0     １体  0.000000\n",
      "29              0     １通  0.000000\n",
      "...           ...    ...       ...\n",
      "13277          -1      躁 -1.000000\n",
      "13278          -1     躁病 -1.000000\n",
      "13279          -1     躁鬱 -1.000000\n",
      "13280          -1    躁鬱病 -0.439550\n",
      "13281          -1     躊躇 -0.329037\n",
      "13282           0      躾  0.000000\n",
      "13283          -1     軋轢 -0.978825\n",
      "13284          -1     輻輳 -1.000000\n",
      "13285          -1     辟易 -0.573779\n",
      "13286           1     辣腕  0.211489\n",
      "13287           1     醵金  1.000000\n",
      "13288           0     醵出  0.000000\n",
      "13289           0      鉈  0.000000\n",
      "13290          -1     錚錚 -1.000000\n",
      "13291          -1     閨怨 -1.000000\n",
      "13292          -1     隘路 -0.990859\n",
      "13293           0     隕石  0.000000\n",
      "13294           0      靄  0.000000\n",
      "13295           1     頌徳  0.995075\n",
      "13296          -1     頽唐 -0.992126\n",
      "13297          -1     頽廃 -1.000000\n",
      "13298          -1     顰蹙 -0.993177\n",
      "13299          -1     騙り -1.000000\n",
      "13300           1     驍名  0.986596\n",
      "13301          -1   髀肉の嘆 -1.000000\n",
      "13302           0      魏  0.000000\n",
      "13303          -1   魑魅魍魎 -0.662877\n",
      "13304           0      鮑  0.000000\n",
      "13305           0     鹹味  0.000000\n",
      "13306           0     麒麟  0.000000\n",
      "\n",
      "[13307 rows x 3 columns]\n"
     ]
    }
   ],
   "source": [
    "# jp_dictを2つのリスト型に変換\n",
    "word = jp_dict.keys() \n",
    "pn = jp_dict.values()\n",
    "\n",
    "# データフレームを作成\n",
    "new_ipsd = pd.DataFrame()\n",
    "# 列の追加\n",
    "new_ipsd[\"descretePN\"] = descrete_pn\n",
    "new_ipsd[\"Word\"] = word \n",
    "new_ipsd[\"PN\"] = pn\n",
    "\n",
    "print(new_ipsd)\n",
    "new_ipsd.to_csv(\"descrete_pn.csv\")"
   ]
  }
 ],
 "metadata": {
  "kernelspec": {
   "display_name": "Python 3",
   "language": "python",
   "name": "python3"
  },
  "language_info": {
   "codemirror_mode": {
    "name": "ipython",
    "version": 3
   },
   "file_extension": ".py",
   "mimetype": "text/x-python",
   "name": "python",
   "nbconvert_exporter": "python",
   "pygments_lexer": "ipython3",
   "version": "3.6.0"
  }
 },
 "nbformat": 4,
 "nbformat_minor": 2
}
