{
 "cells": [
  {
   "cell_type": "code",
   "execution_count": 10,
   "metadata": {
    "collapsed": true
   },
   "outputs": [],
   "source": [
    "# モジュールのインポート\n",
    "import re\n",
    "import csv\n",
    "import time\n",
    "import pandas as pd\n",
    "import matplotlib.pyplot as plt\n",
    "import MeCab\n",
    "import random"
   ]
  },
  {
   "cell_type": "code",
   "execution_count": null,
   "metadata": {
    "collapsed": true
   },
   "outputs": [],
   "source": [
    "m = MeCab.Tagger(\"\")\n",
    "m.parse(\"\")"
   ]
  },
  {
   "cell_type": "code",
   "execution_count": 12,
   "metadata": {
    "collapsed": false
   },
   "outputs": [
    {
     "name": "stdout",
     "output_type": "stream",
     "text": [
      "           Word        PN\n",
      "0          ２，３日  0.000000\n",
      "1           10%  0.000000\n",
      "2          100%  0.000000\n",
      "3           25%  0.000000\n",
      "4           80%  0.000000\n",
      "5          １０カ月  0.000000\n",
      "6          １０時間  0.000000\n",
      "7          １０数年  0.000000\n",
      "8         １０年以上  0.000000\n",
      "9         １０年近く  0.000000\n",
      "10         １１ヶ月  0.000000\n",
      "11          １１年  0.000000\n",
      "12          １２年  0.000000\n",
      "13          １３年  0.000000\n",
      "14          １４年  0.000000\n",
      "15          １５秒  0.000000\n",
      "16          １６年  0.000000\n",
      "17          １７年  0.000000\n",
      "18          １９年  0.000000\n",
      "19         １バイト  0.000000\n",
      "20           １位  0.300000\n",
      "21           １割  0.000000\n",
      "22        １時間以上  0.000000\n",
      "23        １時間以内  0.000000\n",
      "24         １時間半  0.000000\n",
      "25        １周年記念  0.300000\n",
      "26        １週間以上  0.000000\n",
      "27           １勝  0.300000\n",
      "28           １体  0.000000\n",
      "29           １通  0.000000\n",
      "...         ...       ...\n",
      "18557     愚の骨頂の -0.900170\n",
      "18558   融通の利かない -0.907250\n",
      "18559      根性曲り -0.915699\n",
      "18560      根性悪の -0.915699\n",
      "18561     根性悪です -0.915699\n",
      "18562    好きものです -0.932040\n",
      "18563     愛想がない -0.933688\n",
      "18564     愛想の無い -0.933688\n",
      "18565  インパクトがない -0.940077\n",
      "18566    小気味が悪い -0.968240\n",
      "18567    楽しみがない -0.969654\n",
      "18568      ちんまり -0.970410\n",
      "18569      物見高い -0.971307\n",
      "18570       諤諤の -0.972333\n",
      "18571      諤諤です -0.972333\n",
      "18572       諤諤だ -0.972333\n",
      "18573     有頂天です -0.973747\n",
      "18574      有頂天だ -0.973747\n",
      "18575      有頂天の -0.973747\n",
      "18576     涼しい顔だ -0.975130\n",
      "18577    涼しい顔です -0.975130\n",
      "18578     涼しい顔の -0.975130\n",
      "18579      頼り無い -0.983106\n",
      "18580      頼りない -0.983106\n",
      "18581    だらしがない -0.991217\n",
      "18582     だらしない -0.991217\n",
      "18583     だらし無い -0.991217\n",
      "18584     甲斐性無い -0.991236\n",
      "18585    落ち着かない -0.993768\n",
      "18586      良いない -0.999995\n",
      "\n",
      "[18587 rows x 2 columns]\n"
     ]
    }
   ],
   "source": [
    "# 極性辞書の読み込み\n",
    "pn_df = pd.read_csv('pn_dic.csv',\n",
    "                    sep=',',\n",
    "                    encoding='shift-jis',\n",
    "                    index_col = 0,                 \n",
    "                   )\n",
    "\n",
    "print(pn_df)\n",
    "# MeCabインスタンス作成\n",
    "m = MeCab.Tagger('')  # 指定しなければIPA辞書\n",
    "\n",
    "\n",
    "# -----テキストを形態素解析して辞書のリストを返す関数----- #\n",
    "def get_diclist(text):\n",
    "    parsed = m.parse(text)      # 形態素解析結果（改行を含む文字列として得られる）\n",
    "    lines = parsed.split('\\n')  # 解析結果を1行（1語）ごとに分けてリストにする\n",
    "    lines = lines[0:-2]         # 後ろ2行は不要なので削除\n",
    "    diclist = []\n",
    "    for word in lines:\n",
    "        l = re.split('\\t|,',word)  # 各行はタブとカンマで区切られてるので\n",
    "        d = {'Surface':l[0], 'POS1':l[1], 'POS2':l[2], 'BaseForm':l[7]}\n",
    "        diclist.append(d)\n",
    "    return(diclist)\n",
    "\n",
    "pn = pd.read_csv('pn_dic.csv',\n",
    "                    sep='\\t',\n",
    "                    encoding='utf-8',\n",
    "                 )\n",
    "\n",
    "# dict型に変換\n",
    "word_list = list(pn['Word'])\n",
    "pn_list = list(pn['descretePN'])\n",
    "pn_dict = dict(zip(word_list, pn_list))"
   ]
  },
  {
   "cell_type": "code",
   "execution_count": null,
   "metadata": {
    "collapsed": true
   },
   "outputs": [],
   "source": [
    "# 形態素解析結果の単語ごとdictデータにPN値を追加する関数\n",
    "def add_pnvalue(diclist_old):\n",
    "    diclist_new = []\n",
    "    for word in diclist_old:\n",
    "        base = word['BaseForm']        # 個々の辞書から基本形を取得\n",
    "        if base in pn_dict:\n",
    "            pn = float(pn_dict[base])  # 中身の型があれなので\n",
    "        else:\n",
    "            pn = 'notfound'            # その語がPN Tableになかった場合\n",
    "        word['PN'] = pn\n",
    "        diclist_new.append(word)\n",
    "    return(diclist_new)"
   ]
  },
  {
   "cell_type": "code",
   "execution_count": null,
   "metadata": {
    "collapsed": true
   },
   "outputs": [],
   "source": [
    "# テスト\n",
    "test_text = 'STAP細胞はあります。'\n",
    "dl_test = get_diclist(test_text)\n",
    "dl_test = add_pnvalue(dl_test)\n",
    "print(dl_test)"
   ]
  },
  {
   "cell_type": "code",
   "execution_count": null,
   "metadata": {
    "collapsed": true
   },
   "outputs": [],
   "source": []
  }
 ],
 "metadata": {
  "kernelspec": {
   "display_name": "Python 3",
   "language": "python",
   "name": "python3"
  },
  "language_info": {
   "codemirror_mode": {
    "name": "ipython",
    "version": 3
   },
   "file_extension": ".py",
   "mimetype": "text/x-python",
   "name": "python",
   "nbconvert_exporter": "python",
   "pygments_lexer": "ipython3",
   "version": "3.6.0"
  }
 },
 "nbformat": 4,
 "nbformat_minor": 2
}
