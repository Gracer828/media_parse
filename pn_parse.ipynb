{
 "cells": [
  {
   "cell_type": "code",
   "execution_count": null,
   "metadata": {
    "collapsed": true
   },
   "outputs": [],
   "source": [
    "\"\"\"\n",
    "Python 感情極性対応表とjanomeを使って日本語で良いニュースと悪いニュースの分類を試みる\n",
    "(http://ohke.hateblo.jp/entry/2017/10/27/230000)\n",
    "\"\"\"\n",
    "import codecs\n",
    "# pn_ja.dicファイルから、単語をキー、極性値を値とする辞書を得る\n",
    "def load_pn_dict():\n",
    "    dic = {}\n",
    "    \n",
    "    with codecs.open('./pn_ja.dic.txt', 'r', 'shift_jis') as f:\n",
    "        lines = f.readlines()\n",
    "        \n",
    "        for line in lines:\n",
    "            # 各行は\"良い:よい:形容詞:0.999995\"\n",
    "            columns = line.split(':')\n",
    "            dic[columns[0]] = float(columns[3])          \n",
    "    return dic"
   ]
  },
  {
   "cell_type": "code",
   "execution_count": null,
   "metadata": {
    "collapsed": true
   },
   "outputs": [],
   "source": [
    "# 名詞評価極性辞書を読み込む\n",
    "in_file = csv.reader(open('pne.txt',\"rb\"))\n",
    "pne = []\n",
    "for line in in_file:\n",
    "    try:\n",
    "        if line[1] == 'p': score = 1.0\n",
    "        elif line[1] == 'e': score = 0.5\n",
    "        elif line[1] == 'n': score = 0.0\n",
    "        pne.append((line[0],score))\n",
    "    except: pass\n",
    "\n",
    "# トークンのリストのP/Nを判定する。\n",
    "def judge_pn(tokens):\n",
    "\tscore = 0\n",
    "\tnum_score = 0\n",
    "\tfor token in tokens:\n",
    "\t\tfor _pne in pne:\n",
    "\t\t\tif token == _pne[0]:\n",
    "\t\t\t\tscore += _pne[1]\n",
    "\t\t\t\tnum_score += 1\n",
    "\tif num_score != 0:\n",
    "\t\tpn_rate = float(score)/float(num_score)\n",
    "\telse: pn_rate = 0.5\n",
    "\t\n",
    "\treturn pn_rate"
   ]
  }
 ],
 "metadata": {
  "kernelspec": {
   "display_name": "Python 3",
   "language": "python",
   "name": "python3"
  },
  "language_info": {
   "codemirror_mode": {
    "name": "ipython",
    "version": 3
   },
   "file_extension": ".py",
   "mimetype": "text/x-python",
   "name": "python",
   "nbconvert_exporter": "python",
   "pygments_lexer": "ipython3",
   "version": "3.6.0"
  }
 },
 "nbformat": 4,
 "nbformat_minor": 2
}
