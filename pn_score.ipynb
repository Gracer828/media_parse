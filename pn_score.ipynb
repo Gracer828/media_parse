{
 "cells": [
  {
   "cell_type": "code",
   "execution_count": 65,
   "metadata": {},
   "outputs": [],
   "source": [
    "# モジュールのインポート\n",
    "import re\n",
    "import csv\n",
    "import time\n",
    "import glob\n",
    "import codecs\n",
    "import pandas as pd\n",
    "import matplotlib.pyplot as plt\n",
    "import MeCab\n",
    "import random"
   ]
  },
  {
   "cell_type": "code",
   "execution_count": 64,
   "metadata": {},
   "outputs": [],
   "source": [
    "# このセルはとりあえず無視 最終的に複数のファイルを読み込むが、今はサンプルファイルのみ\n",
    "# # ニュースの文章リスト\n",
    "# texts = []\n",
    "\n",
    "# # ニュースのファイル名一覧を取得する\n",
    "# paths = glob.glob('./01_txt/*.txt')\n",
    "\n",
    "# # ファイル名一覧からテキストを読み込む\n",
    "# for path in paths:\n",
    "#     with codecs.open(path, 'r', 'utf-8') as f:\n",
    "#         text = f.read()\n",
    "#         texts.append(text)\n",
    "\n",
    "# # 最初の1件を表示\n",
    "# print(texts[0])\n",
    "        "
   ]
  },
  {
   "cell_type": "code",
   "execution_count": 77,
   "metadata": {},
   "outputs": [
    {
     "name": "stdout",
     "output_type": "stream",
     "text": [
      "Empty DataFrame\n",
      "Columns: []\n",
      "Index: [0\t２，３日\t0, 1\t１０パーセント\t0, 2\t１００パーセント\t0, 3\t２５パーセント\t0, 4\t８０パーセント\t0, 5\t１０カ月\t0, 6\t１０時間\t0, 7\t１０数年\t0, 8\t１０年以上\t0, 9\t１０年近く\t0, 10\t１１ヶ月\t0, 11\t１１年\t0, 12\t１２年\t0, 13\t１３年\t0, 14\t１４年\t0, 15\t１５秒\t0, 16\t１６年\t0, 17\t１７年\t0, 18\t１９年\t0, 19\t１バイト\t0, 20\t１位\t0.3, 21\t１割\t0, 22\t１時間以上\t0, 23\t１時間以内\t0, 24\t１時間半\t0, 25\t１周年記念\t0.3, 26\t１週間以上\t0, 27\t１勝\t0.3, 28\t１体\t0, 29\t１通\t0, 30\t１日分\t0, 31\t１年近く\t0, 32\t１番\t0.3, 33\t１品\t0, 34\t１文\t0, 35\t２０年以上\t0, 36\t２０年近く\t0, 37\t２３時間\t0, 38\t２か月\t0, 39\t２ヵ月\t0, 40\t２位\t0, 41\t２階席\t0, 42\t２件目\t0, 43\t２時間\t0, 44\t２時間以上\t0, 45\t２時間半\t0, 46\t２次感染\t-0.3, 47\t２失点\t-0.3, 48\t２勝１敗\t0, 49\t２択\t0, 50\t２日\t0, 51\t２年近く\t0, 52\t２年半\t0, 53\t３０分位\t0, 54\t３０分程度\t0, 55\t３４年\t0, 56\t３５年\t0, 57\t３９歳\t0, 58\t３Ｒ\t0, 59\t３か月\t0, 60\t３タテ\t0, 61\t３チーム\t0, 62\t３位\t0, 63\t３回連続\t0, 64\t３割負担\t0, 65\t３週間\t0, 66\t３酔い\t0, 67\t３連打\t0, 68\t３連敗\t-0.3, 69\t４か月\t0, 70\t４回目\t0, 71\t４時間\t0, 72\t４日\t0, 73\t４年\t0, 74\t５０日\t0, 75\t５０年以上\t0, 76\t６００円\t0, 77\t６年\t0, 78\t７ヶ月\t0, 79\t７年\t0, 80\t７番\t0, 81\t８カ月\t0, 82\t８ヶ月\t0, 83\t８割\t0, 84\t９ヶ月\t0, 85\t９年\t0, 86\t９番\t0, 87\tＡＤ\t0, 88\tＡＩＤＳ\t-0.99375, 89\tＡＴフィールド\t0.3, 90\tＡｍａｚｏｎ\t0, 91\tＡ型肝炎\t-0.3, 92\tＢＢＣ\t0, 93\tＢＩＧ\t0.3, 94\tＢＯＴ\t-0.3, 95\tＢＳＥ\t-0.3, 96\tＣＤ\t0, 97\tＣＮＮ\t0, 98\tＣ型肝炎\t-0.3, 99\tＤＶ\t-0.3, ...]\n",
      "\n",
      "[18587 rows x 0 columns]\n"
     ]
    }
   ],
   "source": [
    "# 極性辞書の読み込み\n",
    "pn_df = pd.read_csv('pn_dic.txt',\n",
    "                    sep=',',\n",
    "                    encoding='utf-8',\n",
    "                    index_col = 0,                 \n",
    "                   )\n",
    "\n",
    "print(pn_df)\n",
    "# # dict型に変換\n",
    "# word_list = list(pn_df['Word'])\n",
    "# pn_list = list(pn_df['PN'])\n",
    "# pn_dict = dict(zip(word_list, pn_list))"
   ]
  },
  {
   "cell_type": "code",
   "execution_count": 68,
   "metadata": {},
   "outputs": [
    {
     "name": "stdout",
     "output_type": "stream",
     "text": [
      "コンゴ全土で反大統領派弾圧人死亡か、教会に催涙弾アフリカ中部のコンゴで月日、カビラ大統領退任を求めるカトリックを中心にした反大統領派を治安部隊が全土で弾圧し、国連筋によると、人が死亡した。ミサのため信者が集まった各地の教会に催涙弾が撃ち込まれ、銃声が響き、逮捕者が相次いだ。国連筋は首都キンシャサで人、中部カナンガで人が死亡したと語った。日のカトリックによる抗議の動きを察知した政府は集会を禁じたが、無視された。キンシャサの大聖堂では、野党指導者の到着と同時に治安部隊が催涙弾を放ち、聖職者が連行される中、カビラを倒せと信者が合唱した。政府は、警官にも死者が出たと主張。政府報道官は騒ぎに先立ち野党が国を乗っ取ろうとしていると非難した。カビラ大統領は年暮れに任期が切れたが、居座っている。年中に選挙を行う約束は破られ、今のところ大統領選はに予定されている。\n",
      "\n",
      "\n"
     ]
    }
   ],
   "source": [
    "# サンプルファイルの読み込み\n",
    "with codecs.open('sample.txt', 'r', 'utf-8') as f:\n",
    "    text = f.read()  # ファイル終端まで全て読んだデータを返す\n",
    "#     # 先頭1行は不要なメタ情報のため、削除\n",
    "#     text = re.sub(r'^.*\\n', '', text) \n",
    "#     text = str(text)\n",
    "#     # \"（2018/01/01-06:04）\"以降は削除\n",
    "#     result = re.search(r'（2018/01/01-06:04）', text)\n",
    "#     if result is not None:\n",
    "#         text = text[:result.start()]\n",
    "            \n",
    "print(text)\n"
   ]
  },
  {
   "cell_type": "code",
   "execution_count": 71,
   "metadata": {},
   "outputs": [
    {
     "name": "stdout",
     "output_type": "stream",
     "text": [
      "コンゴ全土で反大統領派弾圧人死亡か、教会に催涙弾アフリカ中部のコンゴで月日、カビラ大統領退任を求めるカトリックを中心にした反大統領派を治安部隊が全土で弾圧し、国連筋によると、人が死亡した。ミサのため信者が集まった各地の教会に催涙弾が撃ち込まれ、銃声が響き、逮捕者が相次いだ。国連筋は首都キンシャサで人、中部カナンガで人が死亡したと語った。日のカトリックによる抗議の動きを察知した政府は集会を禁じたが、無視された。キンシャサの大聖堂では、野党指導者の到着と同時に治安部隊が催涙弾を放ち、聖職者が連行される中、カビラを倒せと信者が合唱した。政府は、警官にも死者が出たと主張。政府報道官は騒ぎに先立ち野党が国を乗っ取ろうとしていると非難した。カビラ大統領は年暮れに任期が切れたが、居座っている。年中に選挙を行う約束は破られ、今のところ大統領選はに予定されている。\n",
      "\n",
      "\n"
     ]
    },
    {
     "ename": "TypeError",
     "evalue": "'in <string>' requires string as left operand, not float",
     "output_type": "error",
     "traceback": [
      "\u001b[0;31m---------------------------------------------------------------------------\u001b[0m",
      "\u001b[0;31mTypeError\u001b[0m                                 Traceback (most recent call last)",
      "\u001b[0;32m<ipython-input-71-ab2a1d02b6a9>\u001b[0m in \u001b[0;36m<module>\u001b[0;34m()\u001b[0m\n\u001b[1;32m     14\u001b[0m \u001b[0;34m\u001b[0m\u001b[0m\n\u001b[1;32m     15\u001b[0m \u001b[0;32mfor\u001b[0m \u001b[0muword\u001b[0m \u001b[0;32min\u001b[0m \u001b[0mpn_dict\u001b[0m\u001b[0;34m.\u001b[0m\u001b[0mkeys\u001b[0m\u001b[0;34m(\u001b[0m\u001b[0;34m)\u001b[0m\u001b[0;34m:\u001b[0m\u001b[0;34m\u001b[0m\u001b[0m\n\u001b[0;32m---> 16\u001b[0;31m     \u001b[0;32mif\u001b[0m \u001b[0mword\u001b[0m \u001b[0;32min\u001b[0m \u001b[0mtext\u001b[0m\u001b[0;34m:\u001b[0m\u001b[0;34m\u001b[0m\u001b[0m\n\u001b[0m\u001b[1;32m     17\u001b[0m         \u001b[0mcount\u001b[0m \u001b[0;34m=\u001b[0m \u001b[0mtext\u001b[0m\u001b[0;34m.\u001b[0m\u001b[0mcount\u001b[0m\u001b[0;34m(\u001b[0m\u001b[0mword\u001b[0m\u001b[0;34m)\u001b[0m  \u001b[0;31m# マッチした単語がテキスト中に何個あるかカウント\u001b[0m\u001b[0;34m\u001b[0m\u001b[0m\n\u001b[1;32m     18\u001b[0m         \u001b[0mprint\u001b[0m\u001b[0;34m(\u001b[0m\u001b[0mword\u001b[0m\u001b[0;34m)\u001b[0m\u001b[0;34m\u001b[0m\u001b[0m\n",
      "\u001b[0;31mTypeError\u001b[0m: 'in <string>' requires string as left operand, not float"
     ]
    }
   ],
   "source": [
    "# # 辞書の単語とテキストをマッチングして、PN値をカウント\n",
    "# for word in pn_dict.keys():   \n",
    "#     matchOB = re.findall(word,text) # テキストの中の辞書とマッチする単語をすべてリストとして返す\n",
    "#     if matchOB:\n",
    "#         print(matchOB)\n",
    "print(text)\n",
    "# # パターンにマッチしたすべてをイテレータとして返す\n",
    "# for word in pn_dict.keys():\n",
    "#     iterator = re.finditer(word ,text)\n",
    "#     for match in iterator:\n",
    "#         print(match.group(), pn_dict[match.group()]) # マッチした文字列とそのPN値を返す\n",
    "#         pn_count = 0\n",
    "#         pn_count += pn_dict[match.group()]\n",
    "\n",
    "for word in pn_dict.keys():\n",
    "    if word in text:\n",
    "        count = text.count(word)  # マッチした単語がテキスト中に何個あるかカウント\n",
    "        print(word) \n",
    "        print(pn_dict[word]*count)\n",
    "        pn_total = 0\n",
    "        pn_total += pn_dict[word]*count\n",
    "            \n",
    "print(pn_total)  \n",
    "\n",
    "   "
   ]
  },
  {
   "cell_type": "code",
   "execution_count": null,
   "metadata": {},
   "outputs": [],
   "source": [
    "\n"
   ]
  }
 ],
 "metadata": {
  "kernelspec": {
   "display_name": "Python 3",
   "language": "python",
   "name": "python3"
  },
  "language_info": {
   "codemirror_mode": {
    "name": "ipython",
    "version": 3
   },
   "file_extension": ".py",
   "mimetype": "text/x-python",
   "name": "python",
   "nbconvert_exporter": "python",
   "pygments_lexer": "ipython3",
   "version": "3.6.3"
  }
 },
 "nbformat": 4,
 "nbformat_minor": 2
}
